{
  "nbformat": 4,
  "nbformat_minor": 0,
  "metadata": {
    "colab": {
      "name": "CSTR.ipynb",
      "provenance": [],
      "collapsed_sections": []
    },
    "kernelspec": {
      "name": "python3",
      "display_name": "Python 3"
    },
    "language_info": {
      "name": "python"
    }
  },
  "cells": [
    {
      "cell_type": "markdown",
      "source": [
        "#Importing Libraries"
      ],
      "metadata": {
        "id": "Vk-Z-QrjHSAv"
      }
    },
    {
      "cell_type": "code",
      "execution_count": 1,
      "metadata": {
        "id": "kWrvW1ttl4O2"
      },
      "outputs": [],
      "source": [
        "import numpy as np\n",
        "import pandas as pd\n",
        "import keras\n",
        "import tensorflow as tf\n",
        "from keras.models import Sequential\n",
        "from keras.layers import LSTM, Dense, Dropout, InputLayer\n",
        "import matplotlib.pyplot as plt\n",
        "from scipy.integrate import solve_ivp\n",
        "from scipy.interpolate import CubicSpline\n",
        "from scipy import signal\n",
        "from sklearn.metrics import mean_absolute_error, mean_squared_error, r2_score\n",
        "from sklearn.linear_model import LinearRegression\n",
        "from sklearn.model_selection import train_test_split \n",
        "from sklearn.preprocessing import PolynomialFeatures, MinMaxScaler\n",
        "import pdb"
      ]
    },
    {
      "cell_type": "code",
      "source": [
        "q = 100            # L/min\n",
        "Ti = 350           # K\n",
        "cA_i = 1           # mol/L\n",
        "V = 100            # L\n",
        "rho = 1000         # g/L\n",
        "C = 0.239          # J/(g K)\n",
        "Hr = -5e4          # J/(g K)\n",
        "E_over_r = 8750    # K\n",
        "k0 = 7.2e10        # min^(-1)\n",
        "UA = 5e4           # J/(min K)\n",
        "Tc = Tc0 = 300     # K"
      ],
      "metadata": {
        "id": "-OYHm2z-o6Kc"
      },
      "execution_count": 2,
      "outputs": []
    },
    {
      "cell_type": "code",
      "source": [
        "# simulation run time: 60 min (1 hr)\n",
        "\n",
        "tspan = (0, 60)\n",
        "t = np.linspace(*tspan, 1000) "
      ],
      "metadata": {
        "id": "EWoPSrHXl-U-"
      },
      "execution_count": 3,
      "outputs": []
    },
    {
      "cell_type": "code",
      "source": [
        "# Add steady state values\n",
        "\n",
        "Ca0 = 0.5    #mol/L\n",
        "T0 = 350.0   #K\n",
        "\n",
        "# pdb.set_trace()\n",
        "\n",
        "# Generating a noise array\n",
        "length = len(t)\n",
        "noise = 0.001*np.random.randn(length)\n",
        "\n",
        "# defining the reactor model\n",
        "def simulation_model(t,x):\n",
        "    Ca = x[0]\n",
        "    T = x[1]\n",
        "    k = k0*np.exp(-E_over_r/T)\n",
        "    w = q*rho\n",
        "    dcAdt = q*(cA_i - Ca)/V - k*Ca\n",
        "    dTdt = 1/(V*rho*C)*(w*C*(Ti - T) - Hr*V*k*Ca + UA*(Tc - T))\n",
        "    return dcAdt, dTdt\n",
        "  "
      ],
      "metadata": {
        "id": "rfjDUw2YmCN2"
      },
      "execution_count": 4,
      "outputs": []
    },
    {
      "cell_type": "code",
      "source": [
        "# Initial Conditions\n",
        "y0 = [Ca0, T0]"
      ],
      "metadata": {
        "id": "UV6x3SGx7Pog"
      },
      "execution_count": 5,
      "outputs": []
    },
    {
      "cell_type": "code",
      "source": [
        "simulation_model(0,y0)"
      ],
      "metadata": {
        "colab": {
          "base_uri": "https://localhost:8080/"
        },
        "id": "gEqA7drO7S5H",
        "outputId": "128ae211-8bb4-44d0-c5e3-f05e89f7aefd"
      },
      "execution_count": 6,
      "outputs": [
        {
          "output_type": "execute_result",
          "data": {
            "text/plain": [
              "(3.40208612952253e-05, -0.007117334999003795)"
            ]
          },
          "metadata": {},
          "execution_count": 6
        }
      ]
    },
    {
      "cell_type": "code",
      "source": [
        "def simulate():\n",
        "    res = solve_ivp(simulation_model, tspan, y0, t_eval=t)\n",
        "    return res.y\n",
        "\n",
        "\n",
        "#cA = res\n",
        "#T = res\n",
        "#print(cA,T)\n",
        "\n",
        "Ca,T = simulate()\n",
        "\n",
        "plt.plot(t, T, 'g.')\n",
        "plt.ylabel('Temp (K)')\n",
        "plt.xlabel(\"time (min)\")  \n",
        "plt.grid()\n",
        "plt.show()\n"
      ],
      "metadata": {
        "colab": {
          "base_uri": "https://localhost:8080/",
          "height": 279
        },
        "id": "V-h3rW9i8dRJ",
        "outputId": "45714b28-7fe6-4b8a-94a6-a5f220b26b67"
      },
      "execution_count": 7,
      "outputs": [
        {
          "output_type": "display_data",
          "data": {
            "text/plain": [
              "<Figure size 432x288 with 1 Axes>"
            ],
            "image/png": "[encoded data removed]"
          },
          "metadata": {
            "needs_background": "light"
          }
        }
      ]
    },
    {
      "cell_type": "code",
      "source": [
        "plt.plot(t, Ca, 'r.')\n",
        "plt.ylabel('Conc (mol/L)')\n",
        "plt.xlabel(\"time (min)\")  \n",
        "plt.grid()\n",
        "plt.show()"
      ],
      "metadata": {
        "colab": {
          "base_uri": "https://localhost:8080/",
          "height": 279
        },
        "id": "ccCLH6G_Zguw",
        "outputId": "332ecfac-592b-459a-ad0f-8ab4a4710bbb"
      },
      "execution_count": 8,
      "outputs": [
        {
          "output_type": "display_data",
          "data": {
            "text/plain": [
              "<Figure size 432x288 with 1 Axes>"
            ],
            "image/png": "[encoded data removed]"
          },
          "metadata": {
            "needs_background": "light"
          }
        }
      ]
    },
    {
      "cell_type": "code",
      "source": [
        "plt.plot(T, Ca, 'b.')\n",
        "plt.ylabel('Conc (mol/L)')\n",
        "plt.xlabel(\"temp (K)\")  \n",
        "plt.grid()\n",
        "plt.show()"
      ],
      "metadata": {
        "colab": {
          "base_uri": "https://localhost:8080/",
          "height": 279
        },
        "id": "eqMFhGgdYPB3",
        "outputId": "5c012595-463b-473a-e519-ce77f3841df1"
      },
      "execution_count": 9,
      "outputs": [
        {
          "output_type": "display_data",
          "data": {
            "text/plain": [
              "<Figure size 432x288 with 1 Axes>"
            ],
            "image/png": "[encoded data removed]"
          },
          "metadata": {
            "needs_background": "light"
          }
        }
      ]
    },
    {
      "cell_type": "code",
      "source": [
        "# Concentartion after adding noise\n",
        "conc = Ca + noise\n",
        "temp = T + noise\n",
        "print(Ca)\n",
        "print(conc.ndim)\n",
        "print(t.ndim)\n",
        "#Extracting Independent and dependent Variable  \n",
        "x1= t\n",
        "y1= conc\n",
        "#import pdb\n",
        "#pdb.set_trace()\n",
        "x2 = x1.reshape(-1,1)"
      ],
      "metadata": {
        "id": "c5fOXvm2dPQ7",
        "colab": {
          "base_uri": "https://localhost:8080/"
        },
        "outputId": "82af2e65-7afb-458b-a3fb-2753d84e48a2"
      },
      "execution_count": 10,
      "outputs": [
        {
          "output_type": "stream",
          "name": "stdout",
          "text": [
            "[0.5        0.5000024  0.50000559 0.50000969 0.50001487 0.50002132\n",
            " 0.5000293  0.50003908 0.50005098 0.50006653 0.50010366 0.50016178\n",
            " 0.50023338 0.50031205 0.5003925  0.50047059 0.50054327 0.50060862\n",
            " 0.50066585 0.50071527 0.50075834 0.50079761 0.50083678 0.50088065\n",
            " 0.50093515 0.50100732 0.50110535 0.50123851 0.50141722 0.50165301\n",
            " 0.50195854 0.50234758 0.50283502 0.50343689 0.50417031 0.50505354\n",
            " 0.50610597 0.5073481  0.50880153 0.51048903 0.51243444 0.51466275\n",
            " 0.51720006 0.52007103 0.52326348 0.52684026 0.53088028 0.53544616\n",
            " 0.54058416 0.54632422 0.55267998 0.55964873 0.56721143 0.57533274\n",
            " 0.58396098 0.59302814 0.60244989 0.61212558 0.62193822 0.63179701\n",
            " 0.64172819 0.65167925 0.66159481 0.67142468 0.68112392 0.69065275\n",
            " 0.69997662 0.70906621 0.71789737 0.72645119 0.73471393 0.74267711\n",
            " 0.75033742 0.75769676 0.76476151 0.77147915 0.77783935 0.7838771\n",
            " 0.78962327 0.79510463 0.80034382 0.80535937 0.81016569 0.81477308\n",
            " 0.81918773 0.8234117  0.82744295 0.83127531 0.83489851 0.83829814\n",
            " 0.84145572 0.8443486  0.84695924 0.84937039 0.85161826 0.85371411\n",
            " 0.85566843 0.85749099 0.85919079 0.86077608 0.86225437 0.86363243\n",
            " 0.86491625 0.86611111 0.8672215  0.86825119 0.86920319 0.87007977\n",
            " 0.87088243 0.87161195 0.87227113 0.8728723  0.87342064 0.87392019\n",
            " 0.87437481 0.87478813 0.87516357 0.87550437 0.87581352 0.87609385\n",
            " 0.87634794 0.87657817 0.87678674 0.87697562 0.87714656 0.87730112\n",
            " 0.87744066 0.8775663  0.87767899 0.87777944 0.87786818 0.87794551\n",
            " 0.87801152 0.87806611 0.87810897 0.87813956 0.87815715 0.87816081\n",
            " 0.87814938 0.87813241 0.87812306 0.87812002 0.87812195 0.87812763\n",
            " 0.87813587 0.87814562 0.87815585 0.87816566 0.8781742  0.87818071\n",
            " 0.87818452 0.87818504 0.87818174 0.87817418 0.87816202 0.87814498\n",
            " 0.87812287 0.87809557 0.87806306 0.87802538 0.87798265 0.8779351\n",
            " 0.87788302 0.87782677 0.87776681 0.87770366 0.87763796 0.87757039\n",
            " 0.87750172 0.87743282 0.87736461 0.87729813 0.87723446 0.87717479\n",
            " 0.87712038 0.87707257 0.87703277 0.8770025  0.87698333 0.87697694\n",
            " 0.87697917 0.87697836 0.87697467 0.87696866 0.87696089 0.87695186\n",
            " 0.87694203 0.87693185 0.87692174 0.87691207 0.87690319 0.87689542\n",
            " 0.87688903 0.87688427 0.87688137 0.87688052 0.87688186 0.87688552\n",
            " 0.8768916  0.87690014 0.87691118 0.87692472 0.8769407  0.87695908\n",
            " 0.87697974 0.87700255 0.87702735 0.87705394 0.87708209 0.87711154\n",
            " 0.877142   0.87717315 0.87720462 0.87723603 0.87726695 0.87729694\n",
            " 0.87732551 0.87735215 0.87737629 0.87739738 0.87741478 0.87742786\n",
            " 0.87743594 0.87743831 0.87743793 0.87744327 0.87745395 0.8774692\n",
            " 0.87748826 0.87751042 0.877535   0.87756135 0.87758885 0.87761694\n",
            " 0.87764505 0.87767269 0.87769938 0.87772468 0.87774817 0.87776949\n",
            " 0.87778829 0.87780428 0.87781717 0.87782674 0.87783279 0.87783513\n",
            " 0.87783365 0.87782823 0.87781883 0.87780539 0.87778793 0.87776649\n",
            " 0.87774113 0.87771196 0.87767913 0.8776428  0.87760318 0.87756052\n",
            " 0.87751509 0.87746721 0.87741721 0.87736549 0.87731245 0.87725853\n",
            " 0.87720423 0.87715006 0.87709657 0.87704434 0.87699399 0.87694618\n",
            " 0.87690159 0.87686095 0.876825   0.87679455 0.87677041 0.87675345\n",
            " 0.87674455 0.87674464 0.87675233 0.87675353 0.87674691 0.8767338\n",
            " 0.87671548 0.87669314 0.87666793 0.87664089 0.87661303 0.87658528\n",
            " 0.87655849 0.87653344 0.87651087 0.87649141 0.87647565 0.8764641\n",
            " 0.8764572  0.87645534 0.87645881 0.87646785 0.87648262 0.87650324\n",
            " 0.87652973 0.87656204 0.87660007 0.87664365 0.87669252 0.87674638\n",
            " 0.87680484 0.87686744 0.87693367 0.87700294 0.87707458 0.87714786\n",
            " 0.877222   0.87729612 0.87736929 0.8774405  0.87750869 0.8775727\n",
            " 0.87763134 0.87768331 0.87772728 0.87776182 0.87778544 0.8777966\n",
            " 0.87779367 0.87778461 0.87778396 0.87779063 0.87780332 0.87782083\n",
            " 0.877842   0.87786576 0.87789108 0.87791702 0.87794271 0.87796731\n",
            " 0.8779901  0.87801038 0.87802754 0.87804105 0.87805041 0.87805521\n",
            " 0.87805512 0.87804985 0.87803919 0.87802299 0.87800118 0.87797375\n",
            " 0.87794075 0.87790231 0.87785861 0.87780991 0.87775654 0.87769889\n",
            " 0.87763742 0.87757264 0.87750516 0.87743562 0.87736476 0.87729337\n",
            " 0.87722231 0.87715249 0.87708493 0.87702067 0.87696085 0.87690666\n",
            " 0.87685935 0.87682026 0.87679078 0.87677238 0.87676658 0.8767742\n",
            " 0.87677881 0.87677433 0.87676222 0.87674385 0.8767205  0.87669342\n",
            " 0.87666374 0.87663257 0.87660092 0.87656973 0.87653987 0.87651214\n",
            " 0.87648728 0.87646595 0.87644874 0.87643616 0.87642867 0.87642664\n",
            " 0.87643038 0.87644012 0.87645602 0.87647819 0.87650665 0.87654134\n",
            " 0.87658214 0.87662888 0.87668128 0.87673901 0.87680168 0.87686881\n",
            " 0.87693986 0.8770142  0.87709116 0.87716998 0.87724983 0.87732981\n",
            " 0.87740896 0.87748622 0.8775605  0.87763061 0.8776953  0.87775324\n",
            " 0.87780304 0.87784323 0.87787228 0.87788858 0.87789045 0.87787711\n",
            " 0.87786837 0.87787135 0.87788427 0.87790544 0.87793323 0.87796613\n",
            " 0.8780027  0.87804158 0.8780815  0.87812128 0.87815982 0.87819611\n",
            " 0.87822922 0.87825831 0.87828263 0.8783015  0.87831434 0.87832065\n",
            " 0.87832001 0.87831209 0.87829667 0.87827356 0.87824271 0.87820412\n",
            " 0.87815791 0.87810423 0.87804338 0.87797571 0.87790164 0.87782172\n",
            " 0.87773655 0.87764684 0.87755335 0.87745697 0.87735863 0.8772594\n",
            " 0.87716038 0.87706278 0.87696792 0.87687715 0.87679196 0.87671389\n",
            " 0.87664457 0.87658575 0.87653921 0.87650686 0.87649067 0.87649271\n",
            " 0.87651176 0.87652223 0.87652011 0.87650747 0.87648627 0.87645838\n",
            " 0.87642553 0.87638937 0.87635146 0.8763132  0.87627595 0.87624091\n",
            " 0.8762092  0.87618184 0.87615973 0.87614367 0.87613435 0.87613235\n",
            " 0.87613817 0.87615217 0.87617463 0.87620571 0.87624547 0.87629387\n",
            " 0.87635074 0.87641584 0.8764888  0.87656914 0.8766563  0.87674959\n",
            " 0.87684822 0.8769513  0.87705783 0.87716671 0.87727673 0.87738658\n",
            " 0.87749482 0.87759993 0.87770029 0.87779414 0.87787965 0.87795487\n",
            " 0.87801774 0.87806609 0.87809767 0.87811009 0.87810088 0.87807539\n",
            " 0.87805981 0.8780548  0.8780586  0.87806951 0.87808597 0.87810647\n",
            " 0.87812962 0.87815411 0.87817874 0.87820239 0.87822403 0.87824276\n",
            " 0.87825772 0.87826817 0.87827349 0.87827311 0.87826657 0.87825351\n",
            " 0.87823367 0.87820687 0.87817302 0.87813214 0.87808434 0.87802982\n",
            " 0.87796886 0.87790187 0.87782932 0.87775179 0.87766995 0.87758457\n",
            " 0.8774965  0.87740669 0.8773162  0.87722617 0.87713782 0.87705249\n",
            " 0.87697159 0.87689666 0.87682929 0.8767712  0.87672417 0.87669011\n",
            " 0.876671   0.87666892 0.8766843  0.87669676 0.87670091 0.87669815\n",
            " 0.87668977 0.876677   0.87666101 0.87664288 0.87662362 0.87660417\n",
            " 0.8765854  0.87656811 0.87655302 0.87654078 0.87653196 0.87652707\n",
            " 0.87652654 0.87653072 0.87653992 0.87655433 0.8765741  0.8765993\n",
            " 0.87662992 0.87666589 0.87670705 0.87675318 0.87680398 0.8768591\n",
            " 0.87691808 0.87698041 0.87704551 0.87711271 0.87718129 0.87725044\n",
            " 0.87731928 0.87738687 0.87745217 0.8775141  0.87757149 0.87762309\n",
            " 0.87766759 0.8777036  0.87772967 0.87774427 0.87774579 0.87773306\n",
            " 0.87772213 0.87772019 0.8777259  0.87773797 0.87775518 0.87777636\n",
            " 0.87780044 0.87782638 0.87785323 0.87788008 0.87790611 0.87793055\n",
            " 0.87795271 0.87797195 0.87798771 0.87799947 0.87800682 0.87800936\n",
            " 0.87800681 0.87799891 0.87798549 0.87796645 0.87794174 0.87791137\n",
            " 0.87787544 0.87783411 0.87778758 0.87773613 0.87768013 0.87761999\n",
            " 0.87755617 0.87748923 0.87741978 0.8773485  0.87727612 0.87720345\n",
            " 0.87713137 0.87706081 0.87699278 0.87692834 0.87686863 0.87681485\n",
            " 0.87676827 0.87673021 0.87670207 0.87668531 0.87668146 0.87669211\n",
            " 0.87670844 0.87671142 0.87670244 0.8766834  0.8766561  0.87662225\n",
            " 0.87658348 0.8765413  0.87649716 0.8764524  0.87640826 0.8763659\n",
            " 0.8763264  0.87629073 0.87625976 0.8762343  0.87621504 0.87620258\n",
            " 0.87619744 0.87620005 0.87621073 0.87622972 0.87625717 0.87629314\n",
            " 0.87633758 0.87639037 0.87645129 0.87652002 0.87659616 0.87667922\n",
            " 0.87676859 0.8768636  0.87696348 0.87706736 0.87717429 0.87728321\n",
            " 0.87739298 0.87750238 0.87761007 0.87771464 0.87781457 0.87790828\n",
            " 0.87799406 0.87807012 0.8781346  0.87818552 0.87822082 0.87823835\n",
            " 0.87823586 0.87821102 0.87817644 0.87815891 0.87815664 0.87816725\n",
            " 0.87818844 0.87821806 0.87825405 0.87829449 0.87833759 0.87838165\n",
            " 0.87842511 0.87846653 0.87850459 0.87853807 0.8785659  0.8785871\n",
            " 0.87860085 0.87860641 0.87860317 0.87859066 0.87856851 0.87853647\n",
            " 0.87849442 0.87844235 0.87838039 0.87830876 0.87822782 0.87813804\n",
            " 0.87804003 0.8779345  0.87782227 0.87770432 0.8775817  0.87745562\n",
            " 0.87732739 0.87719845 0.87707034 0.87694476 0.87682348 0.87670843\n",
            " 0.87660164 0.87650526 0.87642157 0.87635297 0.87630196 0.87627118\n",
            " 0.87626339 0.87628147 0.87631834 0.87634284 0.87635454 0.87635561\n",
            " 0.87634811 0.87633399 0.87631508 0.87629307 0.87626957 0.87624603\n",
            " 0.8762238  0.8762041  0.87618806 0.87617666 0.87617076 0.87617112\n",
            " 0.87617837 0.87619302 0.87621547 0.87624598 0.87628472 0.8763317\n",
            " 0.87638686 0.87644999 0.87652075 0.87659872 0.87668332 0.87677388\n",
            " 0.87686958 0.87696952 0.87707266 0.87717782 0.87728374 0.87738901\n",
            " 0.87749213 0.87759144 0.8776852  0.87777152 0.87784842 0.87791378\n",
            " 0.87796537 0.87800082 0.87801768 0.87801334 0.87798646 0.87796085\n",
            " 0.87794491 0.87793711 0.87793602 0.87794029 0.87794863 0.87795985\n",
            " 0.87797283 0.87798654 0.87800002 0.8780124  0.87802287 0.87803073\n",
            " 0.87803533 0.87803612 0.87803264 0.87802447 0.87801131 0.87799293\n",
            " 0.87796917 0.87793995 0.87790529 0.87786527 0.87782005 0.87776989\n",
            " 0.8777151  0.87765611 0.87759339 0.87752751 0.87745913 0.87738896\n",
            " 0.87731783 0.87724661 0.87717629 0.87710789 0.87704257 0.87698152\n",
            " 0.87692603 0.87687748 0.87683731 0.87680707 0.87678835 0.87678284\n",
            " 0.87679233 0.87680935 0.87681781 0.87681859 0.87681295 0.8768021\n",
            " 0.87678715 0.87676917 0.87674915 0.87672804 0.87670669 0.87668592\n",
            " 0.87666646 0.87664899 0.87663412 0.87662239 0.87661429 0.87661023\n",
            " 0.87661056 0.87661557 0.87662548 0.87664045 0.87666058 0.87668588\n",
            " 0.87671633 0.87675182 0.87679219 0.87683721 0.87688658 0.87693994\n",
            " 0.87699687 0.87705688 0.87711941 0.87718385 0.87724951 0.87731565\n",
            " 0.87738145 0.87744604 0.87750848 0.87756775 0.87762279 0.87767246\n",
            " 0.87771556 0.87775082 0.87777693 0.87779247 0.877796   0.87778599\n",
            " 0.87776469 0.87775333 0.87775392 0.87776473 0.8777841  0.87781046\n",
            " 0.87784234 0.87787831 0.87791706 0.87795732 0.87799793 0.87803781\n",
            " 0.87807594 0.8781114  0.87814333 0.87817097 0.87819363 0.8782107\n",
            " 0.87822166 0.87822605 0.8782235  0.87821374 0.87819655 0.8781718\n",
            " 0.87813944 0.87809952 0.87805213 0.87799748 0.87793584 0.87786755\n",
            " 0.87779306 0.87771287 0.87762758 0.87753785 0.87744446 0.87734822\n",
            " 0.87725005 0.87715094 0.87705198 0.8769543  0.87685915 0.87676784\n",
            " 0.87668176 0.87660239 0.87653128 0.87647007 0.87642047 0.87638427\n",
            " 0.87636335 0.87635966 0.87637524 0.87641009 0.87643317 0.87643599\n",
            " 0.87642155 0.87639273 0.87635225 0.87630269 0.87624649 0.87618595\n",
            " 0.87612321 0.87606029 0.87599904 0.87594118 0.87588829 0.8758418\n",
            " 0.875803   0.87577301 0.87575286 0.87574338 0.8757453  0.87575917\n",
            " 0.87578542 0.87582434 0.87587604 0.87594053 0.87601765 0.87610711\n",
            " 0.87620845 0.87632111 0.87644434 0.87657728 0.87671891 0.87686807\n",
            " 0.87702346 0.87718361 0.87734695 0.87751173 0.87767608 0.87783797\n",
            " 0.87799523 0.87814555 0.87828647 0.87841539 0.87852957 0.87862612\n",
            " 0.878702   0.87875405 0.87877893 0.87877319 0.87873321 0.87866006\n",
            " 0.87858377 0.87851028 0.87843955 0.87837158 0.87830636 0.87824386\n",
            " 0.87818407 0.87812696 0.87807249 0.87802064]\n",
            "1\n",
            "1\n"
          ]
        }
      ]
    },
    {
      "cell_type": "code",
      "source": [
        ""
      ],
      "metadata": {
        "id": "D9CpF0uK36jj"
      },
      "execution_count": null,
      "outputs": []
    },
    {
      "cell_type": "code",
      "source": [
        "#Fitting the Polynomial regression to the dataset\n",
        "x_ = PolynomialFeatures(degree=3, include_bias=False).fit_transform(x2)\n",
        "model = LinearRegression().fit(x_, y1)\n",
        "intercept, coefficients = model.intercept_, model.coef_\n",
        "y_pred = model.predict(x_)\n",
        "\n",
        "r_sq = model.score(x_, y1)\n",
        "print(r_sq)\n",
        "#model = LinearRegression().fit(x2, y1)\n",
        "#y_pred = model.intercept_ + model.coef_ * x2\n",
        "#y_new = model.predict(x1)\n",
        "# Construct results and save data file\n",
        "#data = np.vstack((t,Caf,Ca,T)) # vertical stack\n",
        "#data = data.T             # transpose data\n",
        "#np.savetxt('data.txt',data,delimiter=',')"
      ],
      "metadata": {
        "colab": {
          "base_uri": "https://localhost:8080/"
        },
        "id": "k9qfOibaMpM0",
        "outputId": "2b02f4bc-4dce-4b36-b93f-e6aad8f86a22"
      },
      "execution_count": 11,
      "outputs": [
        {
          "output_type": "stream",
          "name": "stdout",
          "text": [
            "0.7175475956046031\n"
          ]
        }
      ]
    },
    {
      "cell_type": "code",
      "source": [
        "# Computing MAE between the simulated data and the noise-added data\n",
        "print('MAE of the simulation is (using regression) ' + str(np.round(mean_absolute_error(conc, y_pred), 5)))"
      ],
      "metadata": {
        "colab": {
          "base_uri": "https://localhost:8080/"
        },
        "id": "9C-tqG6vM0fZ",
        "outputId": "db75f541-f295-40b8-9ba5-c8d04744a2c7"
      },
      "execution_count": 12,
      "outputs": [
        {
          "output_type": "stream",
          "name": "stdout",
          "text": [
            "MAE of the simulation is (using regression) 0.03394\n"
          ]
        }
      ]
    },
    {
      "cell_type": "code",
      "source": [
        "cs = CubicSpline(t, conc)\n",
        "cs1 = CubicSpline(t, temp)\n",
        "conc_new = cs(x2)\n",
        "temp_new = cs1(x2)"
      ],
      "metadata": {
        "id": "3knRRuTkM4eI"
      },
      "execution_count": 13,
      "outputs": []
    },
    {
      "cell_type": "markdown",
      "source": [
        "Do moving avg first then use cubic spline"
      ],
      "metadata": {
        "id": "cg03cI5NpoN0"
      }
    },
    {
      "cell_type": "code",
      "source": [
        "def moving_average(temp_avg, w):\n",
        "    return np.convolve(temp_avg[:,0], np.ones(w), 'valid') / w\n",
        "\n",
        "def moving_average(conc_avg, w):\n",
        "    return np.convolve(conc_avg[:,0], np.ones(w), 'valid') / w\n",
        "\n",
        "def moving_average(t_avg, w):\n",
        "    return np.convolve(t_avg[:,0], np.ones(w), 'valid') / w\n",
        "\n",
        "\n",
        "# print(moving_average(temp_new, 5))\n",
        "pd.DataFrame(moving_average(temp_new, 5)).plot()\n",
        "pd.DataFrame(moving_average(conc_new, 5)).plot()"
      ],
      "metadata": {
        "colab": {
          "base_uri": "https://localhost:8080/",
          "height": 530
        },
        "id": "bDnWPRjus6N6",
        "outputId": "c928f768-a07a-47ae-a6bb-bd1ec1905bd0"
      },
      "execution_count": 14,
      "outputs": [
        {
          "output_type": "execute_result",
          "data": {
            "text/plain": [
              "<matplotlib.axes._subplots.AxesSubplot at 0x7f9457d9ae50>"
            ]
          },
          "metadata": {},
          "execution_count": 14
        },
        {
          "output_type": "display_data",
          "data": {
            "text/plain": [
              "<Figure size 432x288 with 1 Axes>"
            ],
            "image/png": "[encoded data removed]"
          },
          "metadata": {
            "needs_background": "light"
          }
        },
        {
          "output_type": "display_data",
          "data": {
            "text/plain": [
              "<Figure size 432x288 with 1 Axes>"
            ],
            "image/png": "[encoded data removed]"
          },
          "metadata": {
            "needs_background": "light"
          }
        }
      ]
    },
    {
      "cell_type": "code",
      "source": [
        "conc_avg = moving_average(conc_new, 5)\n",
        "temp_avg = moving_average(temp_new, 5)\n",
        "print(t.shape)\n",
        "print(temp_avg.shape)\n",
        "print(conc_avg.shape)\n",
        "t_avg = moving_average(t.reshape(-1,1), 5)"
      ],
      "metadata": {
        "colab": {
          "base_uri": "https://localhost:8080/"
        },
        "id": "8qYTLbrXvPRp",
        "outputId": "064e3678-297f-4d98-f996-11eff2301dae"
      },
      "execution_count": 15,
      "outputs": [
        {
          "output_type": "stream",
          "name": "stdout",
          "text": [
            "(1000,)\n",
            "(996,)\n",
            "(996,)\n"
          ]
        }
      ]
    },
    {
      "cell_type": "code",
      "source": [
        "# Plot the inputs and results\n",
        "#plt.plot(t,Ca,'r-',label='Ca')\n",
        "#plt.plot(t_sys,Ca_sys,'g--',label='Ca (State Space)')\n",
        "\n",
        "#plt.legend(loc='best')\n",
        "#plt.grid()\n",
        "\n",
        "#print(t)\n",
        "#print(conc)\n",
        "# t2 = t_avg.reshape(-1,1)\n",
        "\n",
        "# t_avg = np.ma.masked_equal(t2,0)\n",
        "#conc_avg = np.ma.masked_equal(conc_avg,0)\n",
        "#temp_avg = np.ma.masked_equal(temp_avg,0)\n",
        "\n",
        "#Visulaizing the result for Polynomial Regression  \n",
        "#plt.plot(t_sys,conc,'b--', markersize=2, label='Ca (with noise- simul)')\n",
        "#plt.plot(x2, y_pred, color=\"orange\")\n",
        "#plt.plot(t2, conc_avg, color=\"violet\")\n",
        "# plt.plot(t,conc,'bo', markersize=2, label='Ca (with noise- simul)')\n",
        "\n",
        "plt.plot(t,Ca,'bo', markersize=2)\n",
        "plt.plot(t_avg,conc_avg,'k-', markersize=2)\n",
        "plt.ylabel('Conc (mol/L)')\n",
        "plt.xlabel(\"time (min)\")  \n",
        "plt.grid()\n",
        "\n",
        "plt.show()"
      ],
      "metadata": {
        "id": "twiSr3ZrNBt4",
        "colab": {
          "base_uri": "https://localhost:8080/",
          "height": 279
        },
        "outputId": "df2d136a-fb35-41c1-a4b2-fb4e263562a8"
      },
      "execution_count": 16,
      "outputs": [
        {
          "output_type": "display_data",
          "data": {
            "text/plain": [
              "<Figure size 432x288 with 1 Axes>"
            ],
            "image/png": "[encoded data removed]"
          },
          "metadata": {
            "needs_background": "light"
          }
        }
      ]
    },
    {
      "cell_type": "code",
      "source": [
        "plt.plot(t,temp,'ro', markersize=2, label='Ca (with noise- simul)')\n",
        "plt.plot(t_avg,temp_avg,'k-', markersize=2)\n",
        "plt.ylabel('Temperature (K)')\n",
        "#plt.title(\"(Polynomial Regression)\")  \n",
        "plt.xlabel(\"time (min)\")  \n",
        "#plt.ylabel(\"conc\")\n",
        "plt.grid()\n",
        "\n",
        "plt.show()"
      ],
      "metadata": {
        "id": "hpf0fPKENGQW",
        "colab": {
          "base_uri": "https://localhost:8080/",
          "height": 279
        },
        "outputId": "bb7e5b7e-a882-4828-9b25-547bc784a64d"
      },
      "execution_count": 17,
      "outputs": [
        {
          "output_type": "display_data",
          "data": {
            "text/plain": [
              "<Figure size 432x288 with 1 Axes>"
            ],
            "image/png": "[encoded data removed]"
          },
          "metadata": {
            "needs_background": "light"
          }
        }
      ]
    },
    {
      "cell_type": "code",
      "source": [
        "pd.DataFrame(temp_avg).plot()"
      ],
      "metadata": {
        "colab": {
          "base_uri": "https://localhost:8080/",
          "height": 282
        },
        "id": "zQqUJzkOrzHs",
        "outputId": "127bd8ea-b07e-468d-9e89-260d06b3229a"
      },
      "execution_count": 18,
      "outputs": [
        {
          "output_type": "execute_result",
          "data": {
            "text/plain": [
              "<matplotlib.axes._subplots.AxesSubplot at 0x7f9457ccfad0>"
            ]
          },
          "metadata": {},
          "execution_count": 18
        },
        {
          "output_type": "display_data",
          "data": {
            "text/plain": [
              "<Figure size 432x288 with 1 Axes>"
            ],
            "image/png": "[encoded data removed]"
          },
          "metadata": {
            "needs_background": "light"
          }
        }
      ]
    },
    {
      "cell_type": "code",
      "source": [
        "temp_avg"
      ],
      "metadata": {
        "id": "-MftvpQlqKeS",
        "colab": {
          "base_uri": "https://localhost:8080/"
        },
        "outputId": "8982d2b9-d5de-427c-d22d-88dd18a607db"
      },
      "execution_count": 19,
      "outputs": [
        {
          "output_type": "execute_result",
          "data": {
            "text/plain": [
              "array([349.9990187 , 349.99841209, 349.99716812, 349.99571797,\n",
              "       349.99452802, 349.99295195, 349.99091164, 349.98741695,\n",
              "       349.98289495, 349.97644767, 349.96869975, 349.95990005,\n",
              "       349.95117888, 349.94287842, 349.93479893, 349.9275666 ,\n",
              "       349.92091116, 349.91431307, 349.90834599, 349.90218006,\n",
              "       349.89568229, 349.88796659, 349.87780653, 349.86418052,\n",
              "       349.84725399, 349.82480795, 349.79556038, 349.75903466,\n",
              "       349.71318511, 349.65583464, 349.58525094, 349.50029817,\n",
              "       349.39810056, 349.27616357, 349.13199452, 348.96353053,\n",
              "       348.76779121, 348.54198621, 348.28350741, 347.98926607,\n",
              "       347.65635722, 347.2821528 , 346.86240734, 346.39361596,\n",
              "       345.87116569, 345.29040507, 344.6488345 , 343.94609827,\n",
              "       343.18265209, 342.3632168 , 341.49354404, 340.58019825,\n",
              "       339.63386939, 338.66640159, 337.69143823, 336.7238483 ,\n",
              "       335.77515543, 334.85351061, 333.96534539, 333.11392824,\n",
              "       332.29970384, 331.52595298, 330.79475805, 330.10768824,\n",
              "       329.46519878, 328.86908069, 328.31789793, 327.81214017,\n",
              "       327.34983709, 326.92980392, 326.54911234, 326.2050167 ,\n",
              "       325.89447056, 325.61560694, 325.36543086, 325.14156073,\n",
              "       324.94176826, 324.76373272, 324.60486245, 324.46300242,\n",
              "       324.33719761, 324.22519016, 324.12643619, 324.03978676,\n",
              "       323.96519593, 323.90077587, 323.84785473, 323.8056407 ,\n",
              "       323.77390726, 323.75275234, 323.74055333, 323.7350724 ,\n",
              "       323.73524476, 323.73922923, 323.74525481, 323.75416881,\n",
              "       323.76566395, 323.7786456 , 323.79399988, 323.81067567,\n",
              "       323.82848733, 323.84741631, 323.86691989, 323.8868867 ,\n",
              "       323.9078343 , 323.92873382, 323.94949049, 323.97035811,\n",
              "       323.9901765 , 324.00868785, 324.02659515, 324.04318195,\n",
              "       324.05870226, 324.07394423, 324.08942662, 324.10399444,\n",
              "       324.11841321, 324.13340321, 324.14846883, 324.1632743 ,\n",
              "       324.17844662, 324.19432431, 324.2102489 , 324.22608783,\n",
              "       324.24223334, 324.25923111, 324.27564277, 324.29248512,\n",
              "       324.30895942, 324.32462954, 324.33930632, 324.35387824,\n",
              "       324.36710344, 324.37964196, 324.39092594, 324.40019445,\n",
              "       324.40759755, 324.41306109, 324.41746342, 324.42085532,\n",
              "       324.42377326, 324.42647455, 324.42846018, 324.42964751,\n",
              "       324.43114661, 324.43207753, 324.43270186, 324.43398346,\n",
              "       324.43526564, 324.43596316, 324.43701967, 324.43846825,\n",
              "       324.43956469, 324.44128964, 324.44299926, 324.44527   ,\n",
              "       324.44733708, 324.44979776, 324.45207178, 324.45479968,\n",
              "       324.45788982, 324.46108759, 324.46433739, 324.46766241,\n",
              "       324.47169278, 324.47517358, 324.47863959, 324.48248442,\n",
              "       324.48633124, 324.48925586, 324.49225724, 324.49530493,\n",
              "       324.49793327, 324.49938334, 324.50049348, 324.50074653,\n",
              "       324.50042295, 324.49963489, 324.49925604, 324.49804842,\n",
              "       324.49716775, 324.49626212, 324.49535115, 324.49452118,\n",
              "       324.49442833, 324.49436442, 324.49463367, 324.4945572 ,\n",
              "       324.4944639 , 324.49444229, 324.49435539, 324.49418758,\n",
              "       324.49425385, 324.49400905, 324.49383111, 324.49323392,\n",
              "       324.49282773, 324.49150726, 324.49078453, 324.48906366,\n",
              "       324.48781191, 324.48611224, 324.48481967, 324.48295637,\n",
              "       324.48145983, 324.4793516 , 324.47709203, 324.47490599,\n",
              "       324.47276399, 324.47075471, 324.46907768, 324.4669038 ,\n",
              "       324.46517814, 324.4632595 , 324.46155275, 324.46001477,\n",
              "       324.45898001, 324.45798432, 324.45764887, 324.45770524,\n",
              "       324.45779975, 324.45825838, 324.45897394, 324.45955893,\n",
              "       324.45950693, 324.45928544, 324.45843756, 324.45741625,\n",
              "       324.45578818, 324.45442094, 324.4531342 , 324.45173836,\n",
              "       324.45026094, 324.44845487, 324.44682657, 324.44501895,\n",
              "       324.44381161, 324.44269253, 324.44214233, 324.44131532,\n",
              "       324.44074191, 324.44038285, 324.44032995, 324.44020237,\n",
              "       324.44089839, 324.44150437, 324.4429747 , 324.4440999 ,\n",
              "       324.44617321, 324.44803858, 324.45131531, 324.4541447 ,\n",
              "       324.45699779, 324.46035128, 324.46375256, 324.46697924,\n",
              "       324.47028822, 324.4743983 , 324.47818971, 324.48213183,\n",
              "       324.48599238, 324.49009661, 324.49407524, 324.4980206 ,\n",
              "       324.50187498, 324.50556655, 324.50894793, 324.51197846,\n",
              "       324.51410613, 324.51641996, 324.51821247, 324.51927994,\n",
              "       324.51966604, 324.51935782, 324.51843631, 324.51654499,\n",
              "       324.51473602, 324.51240707, 324.51077945, 324.50874599,\n",
              "       324.50807105, 324.50749046, 324.50791101, 324.50830701,\n",
              "       324.50947699, 324.50991935, 324.51077872, 324.51119811,\n",
              "       324.5118441 , 324.51255471, 324.51259941, 324.51251737,\n",
              "       324.51259182, 324.51224642, 324.51126927, 324.51037846,\n",
              "       324.50895029, 324.50713796, 324.50513067, 324.50262844,\n",
              "       324.50012525, 324.49651542, 324.49275893, 324.4888785 ,\n",
              "       324.48493997, 324.48060184, 324.47706198, 324.47286643,\n",
              "       324.46807532, 324.46332238, 324.45874035, 324.45418992,\n",
              "       324.44997217, 324.44627462, 324.44263605, 324.43946386,\n",
              "       324.4364334 , 324.43433203, 324.4327495 , 324.43227075,\n",
              "       324.43275899, 324.43354463, 324.43514736, 324.43715558,\n",
              "       324.43928429, 324.44116926, 324.4427558 , 324.4433329 ,\n",
              "       324.44357501, 324.44346503, 324.44293993, 324.44220584,\n",
              "       324.44147375, 324.44118568, 324.44073759, 324.44035476,\n",
              "       324.44001174, 324.44017154, 324.43990045, 324.43967508,\n",
              "       324.43965354, 324.44035179, 324.44119491, 324.44275944,\n",
              "       324.44432896, 324.44605596, 324.44856047, 324.45116614,\n",
              "       324.45379091, 324.45731063, 324.4610235 , 324.46447295,\n",
              "       324.46822369, 324.47242834, 324.47615552, 324.47997949,\n",
              "       324.48407858, 324.48843905, 324.49210336, 324.49601022,\n",
              "       324.49983975, 324.50325566, 324.50621601, 324.50886327,\n",
              "       324.51067282, 324.51219554, 324.51248202, 324.51155348,\n",
              "       324.51039236, 324.50893136, 324.50695548, 324.50545541,\n",
              "       324.50409656, 324.50342628, 324.50318681, 324.50335164,\n",
              "       324.5042452 , 324.50544329, 324.50625549, 324.50756292,\n",
              "       324.50850036, 324.50919937, 324.50982741, 324.51047578,\n",
              "       324.51038544, 324.51053736, 324.51007047, 324.50937189,\n",
              "       324.50867386, 324.50769849, 324.5064616 , 324.50486875,\n",
              "       324.50362084, 324.50147821, 324.49895757, 324.49580471,\n",
              "       324.49272016, 324.48895745, 324.48484655, 324.48049708,\n",
              "       324.47647881, 324.47182971, 324.46691102, 324.46267496,\n",
              "       324.45823026, 324.45405038, 324.4500022 , 324.4461652 ,\n",
              "       324.44190264, 324.43879095, 324.4360201 , 324.43369337,\n",
              "       324.43245443, 324.43225279, 324.43218323, 324.43258601,\n",
              "       324.43414117, 324.4357489 , 324.43721597, 324.43909476,\n",
              "       324.4406572 , 324.44151656, 324.44169813, 324.44119718,\n",
              "       324.44016316, 324.43917535, 324.4381382 , 324.43668543,\n",
              "       324.43568741, 324.43467614, 324.43334138, 324.43226595,\n",
              "       324.43178103, 324.43168506, 324.43144444, 324.43167005,\n",
              "       324.43200671, 324.432947  , 324.43448481, 324.43617082,\n",
              "       324.43823856, 324.440615  , 324.44316548, 324.446227  ,\n",
              "       324.45001073, 324.45398542, 324.45845795, 324.46336939,\n",
              "       324.46804193, 324.47324812, 324.47822166, 324.48333006,\n",
              "       324.4880981 , 324.49263058, 324.49747336, 324.50255161,\n",
              "       324.50726644, 324.51192409, 324.51640698, 324.51935187,\n",
              "       324.52197769, 324.52409576, 324.525001  , 324.52482568,\n",
              "       324.52386269, 324.52149838, 324.51868992, 324.5165333 ,\n",
              "       324.51440125, 324.51283085, 324.51181251, 324.51157204,\n",
              "       324.51109236, 324.51097921, 324.51167013, 324.51254504,\n",
              "       324.51299971, 324.51343674, 324.51382841, 324.51336489,\n",
              "       324.51367585, 324.51328578, 324.51304843, 324.51241638,\n",
              "       324.5121779 , 324.51045035, 324.50932245, 324.50689878,\n",
              "       324.50476125, 324.50196618, 324.49870887, 324.4947928 ,\n",
              "       324.49172201, 324.48762693, 324.48308013, 324.47850506,\n",
              "       324.47398092, 324.46916961, 324.46374385, 324.45862916,\n",
              "       324.45405801, 324.44868577, 324.44420155, 324.440253  ,\n",
              "       324.43654044, 324.43314555, 324.43066105, 324.42784885,\n",
              "       324.42648035, 324.42605817, 324.42624535, 324.42762871,\n",
              "       324.42967802, 324.43222411, 324.4347406 , 324.43743708,\n",
              "       324.43918634, 324.44065082, 324.44161366, 324.44209593,\n",
              "       324.44224707, 324.44215725, 324.44245624, 324.44224713,\n",
              "       324.442089  , 324.44189621, 324.4421907 , 324.44172115,\n",
              "       324.44185883, 324.44231391, 324.44275148, 324.44391081,\n",
              "       324.44556798, 324.4468407 , 324.44894697, 324.45136212,\n",
              "       324.45346685, 324.45578561, 324.45917952, 324.46187575,\n",
              "       324.46470649, 324.4686265 , 324.4721065 , 324.47590118,\n",
              "       324.47975283, 324.48401534, 324.48728105, 324.49137034,\n",
              "       324.49494718, 324.498478  , 324.50170932, 324.50433514,\n",
              "       324.50619346, 324.50732989, 324.50807308, 324.50802777,\n",
              "       324.50757379, 324.50635425, 324.50488057, 324.5034322 ,\n",
              "       324.50173477, 324.50000637, 324.49889667, 324.49860776,\n",
              "       324.49781145, 324.49736375, 324.49770454, 324.4978136 ,\n",
              "       324.49723178, 324.49714125, 324.49735119, 324.49748342,\n",
              "       324.49718293, 324.49704897, 324.49653253, 324.49607612,\n",
              "       324.49523421, 324.49448466, 324.49345161, 324.4923108 ,\n",
              "       324.49078823, 324.4888696 , 324.4869252 , 324.48466387,\n",
              "       324.48258043, 324.47995822, 324.47716975, 324.47431566,\n",
              "       324.47131208, 324.46811634, 324.46546518, 324.46282992,\n",
              "       324.46026033, 324.45775986, 324.45577214, 324.45336466,\n",
              "       324.45126893, 324.44965684, 324.44859067, 324.44774135,\n",
              "       324.44771312, 324.44853189, 324.44955334, 324.45144639,\n",
              "       324.45240476, 324.45371187, 324.45453853, 324.45560372,\n",
              "       324.45558988, 324.45589321, 324.45512958, 324.45451617,\n",
              "       324.45353842, 324.45286768, 324.45219952, 324.45231568,\n",
              "       324.45154842, 324.45105237, 324.45054007, 324.45011449,\n",
              "       324.44962253, 324.44976131, 324.45021992, 324.45087068,\n",
              "       324.45176588, 324.45293351, 324.45456056, 324.45607842,\n",
              "       324.4580887 , 324.46042532, 324.46266404, 324.46499995,\n",
              "       324.46722677, 324.46991986, 324.4728136 , 324.47608737,\n",
              "       324.47925714, 324.48265512, 324.48556773, 324.48901088,\n",
              "       324.49205682, 324.49530788, 324.49851991, 324.5008365 ,\n",
              "       324.50229524, 324.50354381, 324.50455373, 324.50463218,\n",
              "       324.50498375, 324.50423266, 324.50337409, 324.50183535,\n",
              "       324.50020381, 324.49860677, 324.49785753, 324.49695048,\n",
              "       324.49672925, 324.49708267, 324.49769465, 324.49860227,\n",
              "       324.49938583, 324.50025083, 324.50066195, 324.50095735,\n",
              "       324.501797  , 324.50272069, 324.50322505, 324.50420156,\n",
              "       324.50440161, 324.50393409, 324.50336382, 324.50262718,\n",
              "       324.50161988, 324.50069497, 324.49924452, 324.49783196,\n",
              "       324.49566959, 324.49338253, 324.49082142, 324.48821626,\n",
              "       324.48435636, 324.48118963, 324.47726689, 324.47330102,\n",
              "       324.46931104, 324.46562293, 324.46159734, 324.45753582,\n",
              "       324.45364814, 324.44969967, 324.44578514, 324.44210504,\n",
              "       324.43929955, 324.43669083, 324.43425523, 324.43254375,\n",
              "       324.43137846, 324.43059814, 324.43055068, 324.43159604,\n",
              "       324.43353999, 324.43616262, 324.43895488, 324.44183196,\n",
              "       324.44369984, 324.44478364, 324.44533549, 324.44526196,\n",
              "       324.44494797, 324.44449653, 324.44398079, 324.4428811 ,\n",
              "       324.44218038, 324.44068879, 324.43977136, 324.43892209,\n",
              "       324.43886133, 324.43837084, 324.43902067, 324.43919988,\n",
              "       324.43968356, 324.43977862, 324.44093982, 324.44201125,\n",
              "       324.44404667, 324.44628977, 324.44873148, 324.45113357,\n",
              "       324.45438519, 324.45747256, 324.46115738, 324.46576123,\n",
              "       324.47030874, 324.47451105, 324.47872778, 324.48369233,\n",
              "       324.48848199, 324.49317753, 324.49757018, 324.50254536,\n",
              "       324.50635215, 324.50950014, 324.512404  , 324.51479738,\n",
              "       324.51672745, 324.51830906, 324.51859226, 324.51814223,\n",
              "       324.51681282, 324.51456376, 324.51182836, 324.50904307,\n",
              "       324.50629564, 324.50398353, 324.5018459 , 324.5001596 ,\n",
              "       324.49937932, 324.49859525, 324.49847966, 324.4980582 ,\n",
              "       324.49734837, 324.49673426, 324.49656969, 324.49567168,\n",
              "       324.4949599 , 324.49425541, 324.49324898, 324.49191849,\n",
              "       324.49059826, 324.48918474, 324.48765637, 324.48634257,\n",
              "       324.48452463, 324.48241811, 324.48012223, 324.47761005,\n",
              "       324.47453488, 324.47183852, 324.46899975, 324.4662508 ,\n",
              "       324.46373576, 324.46129873, 324.45836564, 324.45591878,\n",
              "       324.45338976, 324.4509291 , 324.4486571 , 324.4464612 ,\n",
              "       324.44508513, 324.44438256, 324.4441159 , 324.44453302,\n",
              "       324.44592887, 324.44766808, 324.44933888, 324.45136429,\n",
              "       324.45289289, 324.45460006, 324.45575198, 324.45673165,\n",
              "       324.45742973, 324.45823446, 324.45861761, 324.45916133,\n",
              "       324.45941717, 324.45929606, 324.45944933, 324.4595525 ,\n",
              "       324.45932091, 324.45961709, 324.46035328, 324.46107609,\n",
              "       324.46147556, 324.46207354, 324.46304549, 324.46348637,\n",
              "       324.4642879 , 324.46544403, 324.46767823, 324.46977821,\n",
              "       324.47149962, 324.47337059, 324.47600787, 324.47775769,\n",
              "       324.47908313, 324.48201786, 324.48410895, 324.48586524,\n",
              "       324.48781804, 324.48966424, 324.49099727, 324.4926196 ,\n",
              "       324.49392984, 324.49439594, 324.49482045, 324.49496236,\n",
              "       324.49437898, 324.49376309, 324.49269531, 324.49179916,\n",
              "       324.49038187, 324.48918736, 324.48842399, 324.48819243,\n",
              "       324.48768838, 324.48772303, 324.48772787, 324.48719061,\n",
              "       324.48671964, 324.48655968, 324.48658544, 324.48668004,\n",
              "       324.48669024, 324.48707   , 324.48752398, 324.48737772,\n",
              "       324.48700711, 324.48673644, 324.48568503, 324.48489502,\n",
              "       324.48382476, 324.48339954, 324.48223495, 324.48108302,\n",
              "       324.47956182, 324.47831528, 324.47653046, 324.47503352,\n",
              "       324.47352289, 324.47177815, 324.4698169 , 324.46759845,\n",
              "       324.4656968 , 324.4644228 , 324.46254606, 324.46113803,\n",
              "       324.45985231, 324.45853522, 324.45665794, 324.45566794,\n",
              "       324.45470014, 324.45462338, 324.4548375 , 324.45540456,\n",
              "       324.45677212, 324.45823289, 324.45924391, 324.45991762,\n",
              "       324.46106004, 324.46141751, 324.46150907, 324.46145311,\n",
              "       324.46150678, 324.46069485, 324.45996035, 324.45910592,\n",
              "       324.45794285, 324.45692406, 324.45658733, 324.45555537,\n",
              "       324.45497752, 324.4541657 , 324.45378089, 324.45334066,\n",
              "       324.45351591, 324.4531524 , 324.45398216, 324.4546067 ,\n",
              "       324.45501471, 324.45572175, 324.45688042, 324.458325  ,\n",
              "       324.4600615 , 324.46229261, 324.46422267, 324.46652726,\n",
              "       324.46880054, 324.47140017, 324.47395128, 324.47666062,\n",
              "       324.48007175, 324.48361843, 324.48677074, 324.490117  ,\n",
              "       324.49371813, 324.49629948, 324.49902914, 324.50163973,\n",
              "       324.50346328, 324.50550729, 324.50737474, 324.50811476,\n",
              "       324.50838413, 324.50840279, 324.50759132, 324.50589314,\n",
              "       324.50432844, 324.50190552, 324.50010347, 324.49814377,\n",
              "       324.49669693, 324.49535262, 324.49498432, 324.49409348,\n",
              "       324.49363679, 324.49347746, 324.49317026, 324.49291914,\n",
              "       324.49337611, 324.49324805, 324.49339589, 324.49335882,\n",
              "       324.49346842, 324.49253633, 324.492508  , 324.49178374,\n",
              "       324.49095731, 324.48994305, 324.48884465, 324.48717773,\n",
              "       324.48541949, 324.48359431, 324.48116821, 324.47897912,\n",
              "       324.47636379, 324.47345893, 324.47057345, 324.46791543,\n",
              "       324.46493981, 324.46186281, 324.45879997, 324.4554149 ,\n",
              "       324.45240801, 324.4494007 , 324.44631751, 324.44360805,\n",
              "       324.44115887, 324.43840338, 324.43657975, 324.43527898,\n",
              "       324.4340276 , 324.43362542, 324.43367637, 324.43431783,\n",
              "       324.43542731, 324.43786306, 324.44080143, 324.44429594,\n",
              "       324.44799467, 324.45213071, 324.45561171, 324.45878692,\n",
              "       324.46178281, 324.46413374, 324.46607594, 324.46755687])"
            ]
          },
          "metadata": {},
          "execution_count": 19
        }
      ]
    },
    {
      "cell_type": "code",
      "source": [
        "xscaler = MinMaxScaler()\n",
        "yscaler = MinMaxScaler()\n",
        "\n",
        "X = xscaler.fit_transform(temp_avg.reshape(temp_avg.shape[0], 1))\n",
        "Y = yscaler.fit_transform(conc_avg.reshape(conc_avg.shape[0], 1))\n",
        "\n",
        "print(xscaler.data_min_)"
      ],
      "metadata": {
        "colab": {
          "base_uri": "https://localhost:8080/"
        },
        "id": "Il_K33SPmtjs",
        "outputId": "5726ba25-7ec1-4b8f-e874-df968b905016"
      },
      "execution_count": 20,
      "outputs": [
        {
          "output_type": "stream",
          "name": "stdout",
          "text": [
            "[323.7350724]\n"
          ]
        }
      ]
    },
    {
      "cell_type": "code",
      "source": [
        "pd.DataFrame(X).describe()"
      ],
      "metadata": {
        "colab": {
          "base_uri": "https://localhost:8080/",
          "height": 300
        },
        "id": "C0ivvAEerJPZ",
        "outputId": "1d32880b-4960-4fe1-d2fe-dc0493ba2d0c"
      },
      "execution_count": 21,
      "outputs": [
        {
          "output_type": "execute_result",
          "data": {
            "text/plain": [
              "                0\n",
              "count  996.000000\n",
              "mean     0.080763\n",
              "std      0.208670\n",
              "min      0.000000\n",
              "25%      0.027115\n",
              "50%      0.028112\n",
              "75%      0.029129\n",
              "max      1.000000"
            ],
            "text/html": [
              "\n",
              "  <div id=\"df-48942209-2fcd-441d-b566-4699089423f9\">\n",
              "    <div class=\"colab-df-container\">\n",
              "      <div>\n",
              "<style scoped>\n",
              "    .dataframe tbody tr th:only-of-type {\n",
              "        vertical-align: middle;\n",
              "    }\n",
              "\n",
              "    .dataframe tbody tr th {\n",
              "        vertical-align: top;\n",
              "    }\n",
              "\n",
              "    .dataframe thead th {\n",
              "        text-align: right;\n",
              "    }\n",
              "</style>\n",
              "<table border=\"1\" class=\"dataframe\">\n",
              "  <thead>\n",
              "    <tr style=\"text-align: right;\">\n",
              "      <th></th>\n",
              "      <th>0</th>\n",
              "    </tr>\n",
              "  </thead>\n",
              "  <tbody>\n",
              "    <tr>\n",
              "      <th>count</th>\n",
              "      <td>996.000000</td>\n",
              "    </tr>\n",
              "    <tr>\n",
              "      <th>mean</th>\n",
              "      <td>0.080763</td>\n",
              "    </tr>\n",
              "    <tr>\n",
              "      <th>std</th>\n",
              "      <td>0.208670</td>\n",
              "    </tr>\n",
              "    <tr>\n",
              "      <th>min</th>\n",
              "      <td>0.000000</td>\n",
              "    </tr>\n",
              "    <tr>\n",
              "      <th>25%</th>\n",
              "      <td>0.027115</td>\n",
              "    </tr>\n",
              "    <tr>\n",
              "      <th>50%</th>\n",
              "      <td>0.028112</td>\n",
              "    </tr>\n",
              "    <tr>\n",
              "      <th>75%</th>\n",
              "      <td>0.029129</td>\n",
              "    </tr>\n",
              "    <tr>\n",
              "      <th>max</th>\n",
              "      <td>1.000000</td>\n",
              "    </tr>\n",
              "  </tbody>\n",
              "</table>\n",
              "</div>\n",
              "      <button class=\"colab-df-convert\" onclick=\"convertToInteractive('df-48942209-2fcd-441d-b566-4699089423f9')\"\n",
              "              title=\"Convert this dataframe to an interactive table.\"\n",
              "              style=\"display:none;\">\n",
              "        \n",
              "  <svg xmlns=\"http://www.w3.org/2000/svg\" height=\"24px\"viewBox=\"0 0 24 24\"\n",
              "       width=\"24px\">\n",
              "    <path d=\"M0 0h24v24H0V0z\" fill=\"none\"/>\n",
              "    <path d=\"M18.56 5.44l.94 2.06.94-2.06 2.06-.94-2.06-.94-.94-2.06-.94 2.06-2.06.94zm-11 1L8.5 8.5l.94-2.06 2.06-.94-2.06-.94L8.5 2.5l-.94 2.06-2.06.94zm10 10l.94 2.06.94-2.06 2.06-.94-2.06-.94-.94-2.06-.94 2.06-2.06.94z\"/><path d=\"M17.41 7.96l-1.37-1.37c-.4-.4-.92-.59-1.43-.59-.52 0-1.04.2-1.43.59L10.3 9.45l-7.72 7.72c-.78.78-.78 2.05 0 2.83L4 21.41c.39.39.9.59 1.41.59.51 0 1.02-.2 1.41-.59l7.78-7.78 2.81-2.81c.8-.78.8-2.07 0-2.86zM5.41 20L4 18.59l7.72-7.72 1.47 1.35L5.41 20z\"/>\n",
              "  </svg>\n",
              "      </button>\n",
              "      \n",
              "  <style>\n",
              "    .colab-df-container {\n",
              "      display:flex;\n",
              "      flex-wrap:wrap;\n",
              "      gap: 12px;\n",
              "    }\n",
              "\n",
              "    .colab-df-convert {\n",
              "      background-color: #E8F0FE;\n",
              "      border: none;\n",
              "      border-radius: 50%;\n",
              "      cursor: pointer;\n",
              "      display: none;\n",
              "      fill: #1967D2;\n",
              "      height: 32px;\n",
              "      padding: 0 0 0 0;\n",
              "      width: 32px;\n",
              "    }\n",
              "\n",
              "    .colab-df-convert:hover {\n",
              "      background-color: #E2EBFA;\n",
              "      box-shadow: 0px 1px 2px rgba(60, 64, 67, 0.3), 0px 1px 3px 1px rgba(60, 64, 67, 0.15);\n",
              "      fill: #174EA6;\n",
              "    }\n",
              "\n",
              "    [theme=dark] .colab-df-convert {\n",
              "      background-color: #3B4455;\n",
              "      fill: #D2E3FC;\n",
              "    }\n",
              "\n",
              "    [theme=dark] .colab-df-convert:hover {\n",
              "      background-color: #434B5C;\n",
              "      box-shadow: 0px 1px 3px 1px rgba(0, 0, 0, 0.15);\n",
              "      filter: drop-shadow(0px 1px 2px rgba(0, 0, 0, 0.3));\n",
              "      fill: #FFFFFF;\n",
              "    }\n",
              "  </style>\n",
              "\n",
              "      <script>\n",
              "        const buttonEl =\n",
              "          document.querySelector('#df-48942209-2fcd-441d-b566-4699089423f9 button.colab-df-convert');\n",
              "        buttonEl.style.display =\n",
              "          google.colab.kernel.accessAllowed ? 'block' : 'none';\n",
              "\n",
              "        async function convertToInteractive(key) {\n",
              "          const element = document.querySelector('#df-48942209-2fcd-441d-b566-4699089423f9');\n",
              "          const dataTable =\n",
              "            await google.colab.kernel.invokeFunction('convertToInteractive',\n",
              "                                                     [key], {});\n",
              "          if (!dataTable) return;\n",
              "\n",
              "          const docLinkHtml = 'Like what you see? Visit the ' +\n",
              "            '<a target=\"_blank\" href=https://colab.research.google.com/notebooks/data_table.ipynb>data table notebook</a>'\n",
              "            + ' to learn more about interactive tables.';\n",
              "          element.innerHTML = '';\n",
              "          dataTable['output_type'] = 'display_data';\n",
              "          await google.colab.output.renderOutput(dataTable, element);\n",
              "          const docLink = document.createElement('div');\n",
              "          docLink.innerHTML = docLinkHtml;\n",
              "          element.appendChild(docLink);\n",
              "        }\n",
              "      </script>\n",
              "    </div>\n",
              "  </div>\n",
              "  "
            ]
          },
          "metadata": {},
          "execution_count": 21
        }
      ]
    },
    {
      "cell_type": "code",
      "source": [
        "d = pd.DataFrame(temp_avg, columns=[\"T\"])\n",
        "d[d[\"T\"] == 0].count()"
      ],
      "metadata": {
        "colab": {
          "base_uri": "https://localhost:8080/"
        },
        "id": "ZCL-h5QirU_g",
        "outputId": "a970bd17-bf09-4556-c088-15982c11d81b"
      },
      "execution_count": 22,
      "outputs": [
        {
          "output_type": "execute_result",
          "data": {
            "text/plain": [
              "T    0\n",
              "dtype: int64"
            ]
          },
          "metadata": {},
          "execution_count": 22
        }
      ]
    },
    {
      "cell_type": "code",
      "source": [
        "# # inputs and outputs\n",
        "# x_in = pd.DataFrame(np.array(temp_avg), columns=[\"T\"])        # input: the simulation time series\n",
        "# x_out = pd.DataFrame(np.array(conc_avg), columns=[\"C\"])   # output: difference between measurement and simulation\n",
        "\n",
        "# split into train-test set\n",
        "x_train, x_test, y_train, y_test= train_test_split(X, Y, test_size= 0.33, random_state=1)  \n",
        "\n",
        "# x_train = x_train.reshape(x_train.shape + (1,))\n",
        "# y_train = y_train.reshape(y_train.shape + (1,))\n",
        "\n",
        "# x_test = x_test.reshape(x_test.shape + (1,))\n",
        "# y_test = y_test.reshape(y_test.shape + (1,))\n",
        "\n",
        "# check shapes\n",
        "print('shape of X_train is: ' + str(x_train.shape) + '; shape of y_train is: ' + str(y_train.shape))\n",
        "print('shape of Y_test is: ' + str(y_test.shape) + '; shape of y_test is: ' + str(y_test.shape))"
      ],
      "metadata": {
        "colab": {
          "base_uri": "https://localhost:8080/"
        },
        "id": "3c9LD1iedGR0",
        "outputId": "4bb9ae11-5ee0-442e-f283-5110bff5ac18"
      },
      "execution_count": 23,
      "outputs": [
        {
          "output_type": "stream",
          "name": "stdout",
          "text": [
            "shape of X_train is: (667, 1); shape of y_train is: (667, 1)\n",
            "shape of Y_test is: (329, 1); shape of y_test is: (329, 1)\n"
          ]
        }
      ]
    },
    {
      "cell_type": "code",
      "source": [
        "df1 = pd.DataFrame(x_train).describe()\n",
        "print(df1)\n",
        "ax1 = df1.plot()"
      ],
      "metadata": {
        "colab": {
          "base_uri": "https://localhost:8080/",
          "height": 425
        },
        "id": "lg2EgVUnfkCA",
        "outputId": "c0c85747-60da-4a60-f583-f880da9aaa83"
      },
      "execution_count": 24,
      "outputs": [
        {
          "output_type": "stream",
          "name": "stdout",
          "text": [
            "                0\n",
            "count  667.000000\n",
            "mean     0.079546\n",
            "std      0.207818\n",
            "min      0.000000\n",
            "25%      0.027080\n",
            "50%      0.028032\n",
            "75%      0.029130\n",
            "max      0.999977\n"
          ]
        },
        {
          "output_type": "display_data",
          "data": {
            "text/plain": [
              "<Figure size 432x288 with 1 Axes>"
            ],
            "image/png": "[encoded data removed]"
          },
          "metadata": {
            "needs_background": "light"
          }
        }
      ]
    },
    {
      "cell_type": "code",
      "source": [
        "df2 = pd.DataFrame(y_train).describe()\n",
        "print(df2)\n",
        "ax2 = df2.plot()"
      ],
      "metadata": {
        "colab": {
          "base_uri": "https://localhost:8080/",
          "height": 425
        },
        "id": "qVzpGRBrgigK",
        "outputId": "93f73331-8c0e-41b2-c8ca-49155b458340"
      },
      "execution_count": 25,
      "outputs": [
        {
          "output_type": "stream",
          "name": "stdout",
          "text": [
            "                0\n",
            "count  667.000000\n",
            "mean     0.932381\n",
            "std      0.224194\n",
            "min      0.000000\n",
            "25%      0.993031\n",
            "50%      0.994956\n",
            "75%      0.996708\n",
            "max      1.000000\n"
          ]
        },
        {
          "output_type": "display_data",
          "data": {
            "text/plain": [
              "<Figure size 432x288 with 1 Axes>"
            ],
            "image/png": "[encoded data removed]"
          },
          "metadata": {
            "needs_background": "light"
          }
        }
      ]
    },
    {
      "cell_type": "code",
      "source": [
        "# making a simple neural network model\n",
        "model = Sequential()\n",
        "model.add(Dense(64, activation='relu'))\n",
        "model.add(Dense(64, activation='relu'))\n",
        "model.add(Dense(1))\n",
        "\n",
        "epochs = 100\n",
        "loss = \"mse\"\n",
        "model.compile(optimizer='adam',\n",
        "              loss=loss,\n",
        "              metrics=['mae'], #Mean Absolute Error\n",
        "             )\n",
        "history = model.fit(x_train, y_train, \n",
        "                    shuffle=True, \n",
        "                    epochs=epochs,\n",
        "                    batch_size=20,\n",
        "                    validation_split =.2, \n",
        "                    verbose=2)"
      ],
      "metadata": {
        "id": "HHvALNWprHRS"
      },
      "execution_count": null,
      "outputs": []
    },
    {
      "cell_type": "code",
      "source": [
        "model.summary()"
      ],
      "metadata": {
        "colab": {
          "base_uri": "https://localhost:8080/"
        },
        "id": "X315Qs0P5LLC",
        "outputId": "cbe7ac49-c777-4339-a988-359afe4a4356"
      },
      "execution_count": 27,
      "outputs": [
        {
          "output_type": "stream",
          "name": "stdout",
          "text": [
            "Model: \"sequential\"\n",
            "_________________________________________________________________\n",
            " Layer (type)                Output Shape              Param #   \n",
            "=================================================================\n",
            " dense (Dense)               (None, 64)                128       \n",
            "                                                                 \n",
            " dense_1 (Dense)             (None, 64)                4160      \n",
            "                                                                 \n",
            " dense_2 (Dense)             (None, 1)                 65        \n",
            "                                                                 \n",
            "=================================================================\n",
            "Total params: 4,353\n",
            "Trainable params: 4,353\n",
            "Non-trainable params: 0\n",
            "_________________________________________________________________\n"
          ]
        }
      ]
    },
    {
      "cell_type": "code",
      "source": [
        "plt.plot(history.history['loss'])\n",
        "plt.plot(history.history['val_loss'])"
      ],
      "metadata": {
        "colab": {
          "base_uri": "https://localhost:8080/",
          "height": 282
        },
        "id": "6xoc3Llc5LU7",
        "outputId": "bce66cdf-0af6-45ed-9994-4db1c93c3728"
      },
      "execution_count": 28,
      "outputs": [
        {
          "output_type": "execute_result",
          "data": {
            "text/plain": [
              "[<matplotlib.lines.Line2D at 0x7f9451e56350>]"
            ]
          },
          "metadata": {},
          "execution_count": 28
        },
        {
          "output_type": "display_data",
          "data": {
            "text/plain": [
              "<Figure size 432x288 with 1 Axes>"
            ],
            "image/png": "[encoded data removed]"
          },
          "metadata": {
            "needs_background": "light"
          }
        }
      ]
    },
    {
      "cell_type": "code",
      "source": [
        "history.history"
      ],
      "metadata": {
        "id": "HmQKb4o16YRf"
      },
      "execution_count": null,
      "outputs": []
    },
    {
      "cell_type": "code",
      "source": [
        "result = model.predict(x_test)\n",
        "# X:      0 2 1 8 9\n",
        "# Y:       2 3 4 5 6\n",
        "# Y_pred:  1 2 3 4 5"
      ],
      "metadata": {
        "id": "nU5AyAMu6abf"
      },
      "execution_count": 30,
      "outputs": []
    },
    {
      "cell_type": "code",
      "source": [
        "result_unscaled = yscaler.inverse_transform(result)\n",
        "y_test_unscaled = yscaler.inverse_transform(y_test)\n",
        "x_test_unscaled = yscaler.inverse_transform(x_test)\n",
        "#pd.DataFrame(result_unscaled - y_test_unscaled).abs().describe()\n",
        "\n",
        "pd.DataFrame(result_unscaled - y_test_unscaled).abs().hist(color='#607c8e', grid=True)\n",
        "plt.title('Concentration Prediction error')\n",
        "plt.xlabel('delta (y_predicted - y_test)')\n",
        "plt.ylabel('count')\n",
        "plt.grid(axis='y', alpha=0.75)\n",
        "#plt.plot([i for i in range(len(result_unscaled))], result_unscaled, y_test_unscaled)"
      ],
      "metadata": {
        "colab": {
          "base_uri": "https://localhost:8080/",
          "height": 296
        },
        "id": "Dtcu4tQP6g9z",
        "outputId": "f0b0053b-b695-4c0e-a34b-230f1ab02d4a"
      },
      "execution_count": 101,
      "outputs": [
        {
          "output_type": "display_data",
          "data": {
            "text/plain": [
              "<Figure size 432x288 with 1 Axes>"
            ],
            "image/png": "[encoded data removed]"
          },
          "metadata": {}
        }
      ]
    },
    {
      "cell_type": "code",
      "source": [
        "res = pd.DataFrame(result_unscaled - y_test_unscaled)\n",
        "import seaborn as sns\n",
        "sns.set_style(\"whitegrid\")\n",
        "sns.boxplot(data = res)\n"
      ],
      "metadata": {
        "colab": {
          "base_uri": "https://localhost:8080/",
          "height": 282
        },
        "id": "3EQbzlu3d3yr",
        "outputId": "29091195-8199-44be-ebe7-ee0c2dfb92f9"
      },
      "execution_count": 68,
      "outputs": [
        {
          "output_type": "execute_result",
          "data": {
            "text/plain": [
              "<matplotlib.axes._subplots.AxesSubplot at 0x7f94530b4310>"
            ]
          },
          "metadata": {},
          "execution_count": 68
        },
        {
          "output_type": "display_data",
          "data": {
            "text/plain": [
              "<Figure size 432x288 with 1 Axes>"
            ],
            "image/png": "[encoded data removed]"
          },
          "metadata": {}
        }
      ]
    },
    {
      "cell_type": "code",
      "source": [
        "model.evaluate(x_test,  y_test, verbose=2)"
      ],
      "metadata": {
        "colab": {
          "base_uri": "https://localhost:8080/"
        },
        "id": "ffal9C250xxP",
        "outputId": "77280441-e513-44a9-c1b7-a551935fe4d3"
      },
      "execution_count": 32,
      "outputs": [
        {
          "output_type": "stream",
          "name": "stdout",
          "text": [
            "11/11 - 0s - loss: 6.9691e-04 - mae: 0.0098 - 86ms/epoch - 8ms/step\n"
          ]
        },
        {
          "output_type": "execute_result",
          "data": {
            "text/plain": [
              "[0.0006969095556996763, 0.009838737547397614]"
            ]
          },
          "metadata": {},
          "execution_count": 32
        }
      ]
    },
    {
      "cell_type": "code",
      "source": [
        "mean_absolute_error(y_test_unscaled, result_unscaled)"
      ],
      "metadata": {
        "colab": {
          "base_uri": "https://localhost:8080/"
        },
        "id": "Aj5xKowXYc52",
        "outputId": "63b75393-8fce-4a1f-873c-04afb661fd84"
      },
      "execution_count": 33,
      "outputs": [
        {
          "output_type": "execute_result",
          "data": {
            "text/plain": [
              "0.003734563408778198"
            ]
          },
          "metadata": {},
          "execution_count": 33
        }
      ]
    },
    {
      "cell_type": "code",
      "source": [
        "# RMSE\n",
        "mean_squared_error(y_test_unscaled, result_unscaled)\n",
        "np.sqrt(mean_squared_error(y_test_unscaled, result_unscaled))"
      ],
      "metadata": {
        "colab": {
          "base_uri": "https://localhost:8080/"
        },
        "id": "eCLNQvIhYvNE",
        "outputId": "0af3bbcd-7ba1-468d-d96d-bf958912a9ac"
      },
      "execution_count": 34,
      "outputs": [
        {
          "output_type": "execute_result",
          "data": {
            "text/plain": [
              "0.010020470186825895"
            ]
          },
          "metadata": {},
          "execution_count": 34
        }
      ]
    },
    {
      "cell_type": "code",
      "source": [
        "# R-squared\n",
        "r2_score(y_test_unscaled, result_unscaled)"
      ],
      "metadata": {
        "colab": {
          "base_uri": "https://localhost:8080/"
        },
        "id": "YXiSgJXBapmX",
        "outputId": "686fbedc-eb0f-4180-bb0a-c873b4f90447"
      },
      "execution_count": 35,
      "outputs": [
        {
          "output_type": "execute_result",
          "data": {
            "text/plain": [
              "0.986926953199646"
            ]
          },
          "metadata": {},
          "execution_count": 35
        }
      ]
    },
    {
      "cell_type": "code",
      "source": [
        "print(history.history.keys())"
      ],
      "metadata": {
        "colab": {
          "base_uri": "https://localhost:8080/"
        },
        "id": "-lclMvZocst1",
        "outputId": "030a7d91-7195-44d6-abda-000e4ee7806f"
      },
      "execution_count": 36,
      "outputs": [
        {
          "output_type": "stream",
          "name": "stdout",
          "text": [
            "dict_keys(['loss', 'mae', 'val_loss', 'val_mae'])\n"
          ]
        }
      ]
    },
    {
      "cell_type": "code",
      "source": [
        "plt.plot(history.history['mae'])\n",
        "plt.ylabel('mae')\n",
        "plt.xlabel('epoch')\n",
        "plt.legend(['train'], loc='best')\n",
        "plt.show()"
      ],
      "metadata": {
        "colab": {
          "base_uri": "https://localhost:8080/",
          "height": 279
        },
        "id": "PG7eFYDmernc",
        "outputId": "9a0ef490-10c8-4ce9-e7a6-553bb4cbb0f7"
      },
      "execution_count": 37,
      "outputs": [
        {
          "output_type": "display_data",
          "data": {
            "text/plain": [
              "<Figure size 432x288 with 1 Axes>"
            ],
            "image/png": "[encoded data removed]"
          },
          "metadata": {
            "needs_background": "light"
          }
        }
      ]
    },
    {
      "cell_type": "code",
      "source": [
        "plt.plot(history.history['loss'])\n",
        "plt.plot(history.history['val_loss'])\n",
        "plt.title('model loss')\n",
        "plt.ylabel('loss')\n",
        "plt.xlabel('epoch')\n",
        "plt.legend(['train', 'validation'], loc='best')\n",
        "plt.show()"
      ],
      "metadata": {
        "colab": {
          "base_uri": "https://localhost:8080/",
          "height": 295
        },
        "id": "8CSSNEdHdocf",
        "outputId": "32b2509c-096e-450f-b31c-b25fece88a78"
      },
      "execution_count": 38,
      "outputs": [
        {
          "output_type": "display_data",
          "data": {
            "text/plain": [
              "<Figure size 432x288 with 1 Axes>"
            ],
            "image/png": "[encoded data removed]"
          },
          "metadata": {
            "needs_background": "light"
          }
        }
      ]
    },
    {
      "cell_type": "code",
      "source": [
        "plt.plot(temp_avg, conc_avg)\n",
        "plt.title('CSTR concentration vs. temperature plot')\n",
        "plt.ylabel('conc (mol/L)')\n",
        "plt.xlabel('temp (K)')\n",
        "plt.show()"
      ],
      "metadata": {
        "colab": {
          "base_uri": "https://localhost:8080/",
          "height": 295
        },
        "id": "rygIcSvGfXEH",
        "outputId": "14df1c3c-7d4c-4db7-eacc-a75c50205510"
      },
      "execution_count": 39,
      "outputs": [
        {
          "output_type": "display_data",
          "data": {
            "text/plain": [
              "<Figure size 432x288 with 1 Axes>"
            ],
            "image/png": "[encoded data removed]"
          },
          "metadata": {
            "needs_background": "light"
          }
        }
      ]
    },
    {
      "cell_type": "code",
      "source": [
        "#plt.plot(temp_avg, conc_avg, 'r.')\n",
        "plt.plot(x_train, y_train, 'b.')\n",
        "plt.plot(x_test, result, 'r*')\n",
        "print(x_test_unscaled.ndim)\n",
        "print(temp_avg.ndim)\n",
        "print(result_unscaled.ndim)\n",
        "print(conc_avg.ndim)\n",
        "#plt.plot(temp_avg, conc_avg, 'r.')\n",
        "plt.title('CSTR concentration vs. temperature plot')\n",
        "plt.ylabel('conc (mol/L)')\n",
        "plt.xlabel('temp (K)')\n",
        "plt.legend(['train', 'validation'], loc='best')\n",
        "plt.show()"
      ],
      "metadata": {
        "colab": {
          "base_uri": "https://localhost:8080/",
          "height": 364
        },
        "id": "nwYhXppKf-sS",
        "outputId": "7b25f671-7ea7-477d-b241-1977f9a4fcff"
      },
      "execution_count": 97,
      "outputs": [
        {
          "output_type": "stream",
          "name": "stdout",
          "text": [
            "2\n",
            "1\n",
            "2\n",
            "1\n"
          ]
        },
        {
          "output_type": "display_data",
          "data": {
            "text/plain": [
              "<Figure size 432x288 with 1 Axes>"
            ],
            "image/png": "[encoded data removed]"
          },
          "metadata": {}
        }
      ]
    },
    {
      "cell_type": "code",
      "source": [
        "plt.plot(x_test_unscaled, result_unscaled)\n",
        "plt.title('CSTR concentration vs. temperature plot')\n",
        "plt.ylabel('conc (mol/L)')\n",
        "plt.xlabel('temp (K)')\n",
        "plt.show()"
      ],
      "metadata": {
        "colab": {
          "base_uri": "https://localhost:8080/",
          "height": 295
        },
        "id": "kcpNW6QvdJYl",
        "outputId": "c37903d5-437b-48c0-d169-a8c766105e7e"
      },
      "execution_count": 41,
      "outputs": [
        {
          "output_type": "display_data",
          "data": {
            "text/plain": [
              "<Figure size 432x288 with 1 Axes>"
            ],
            "image/png": "[encoded data removed]"
          },
          "metadata": {
            "needs_background": "light"
          }
        }
      ]
    },
    {
      "cell_type": "code",
      "source": [
        "# X (temp):      0 2 1 8 9\n",
        "# Y (conc):       2 3 4 5 6\n",
        "# Y_pred (conc):  1 2 3 4 5"
      ],
      "metadata": {
        "id": "ct5qxdTGbuDU"
      },
      "execution_count": null,
      "outputs": []
    },
    {
      "cell_type": "markdown",
      "source": [
        "boxplot (abs_delta), histogram(sns - delta)"
      ],
      "metadata": {
        "id": "cavhGp4A4XCW"
      }
    }
  ]
}